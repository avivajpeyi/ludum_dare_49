{
 "cells": [
  {
   "cell_type": "code",
   "execution_count": 1,
   "metadata": {},
   "outputs": [
    {
     "name": "stdout",
     "output_type": "stream",
     "text": [
      "pygame 2.0.1 (SDL 2.0.14, Python 3.8.10)\n",
      "Hello from the pygame community. https://www.pygame.org/contribute.html\n"
     ]
    }
   ],
   "source": [
    "import pygame"
   ]
  },
  {
   "cell_type": "code",
   "execution_count": 28,
   "metadata": {},
   "outputs": [
    {
     "data": {
      "text/html": [
       "<style>.container { width:100% !important; }</style>"
      ],
      "text/plain": [
       "<IPython.core.display.HTML object>"
      ]
     },
     "metadata": {},
     "output_type": "display_data"
    }
   ],
   "source": [
    "display(HTML(\"<style>.container { width:100% !important; }</style>\"))\n"
   ]
  },
  {
   "cell_type": "code",
   "execution_count": 8,
   "metadata": {},
   "outputs": [],
   "source": []
  },
  {
   "cell_type": "code",
   "execution_count": 54,
   "metadata": {},
   "outputs": [],
   "source": [
    "# Copying instructions from other screen\n",
    "import pygame\n",
    "pygame.init()\n",
    "\n",
    "# Wrap everything in a try except loop\n",
    "try:\n",
    "\n",
    "    ### Setup static objects\n",
    "\n",
    "    # Set up draw window\n",
    "    screen = pygame.display.set_mode([500, 500])\n",
    "    \n",
    "    \"\"\"These need to be redrawn each time\n",
    "    # Make it white\n",
    "    screen.fill((255, 255, 255))\n",
    "\n",
    "    # Draw blue circle in center\n",
    "    pygame.draw.circle(screen, (0, 0, 255), (250, 250), 75)\n",
    "    # Add a green ellipse\n",
    "    pygame.draw.ellipse(screen, (0, 255, 0), (250, 250, 50, 30), 0)\n",
    "    \"\"\"\n",
    "    \n",
    "    ### Create the triangle character here\n",
    "    class Player(pygame.sprite.Sprite):\n",
    "        def __init__(self):\n",
    "            super(Player, self).__init__()\n",
    "            self.color = (255, 0, 0)\n",
    "            self.theta = 0\n",
    "            self.rotation_speed = 0.1\n",
    "            self.center = (250, 250)\n",
    "            self.aspect_ratio = 3 # height / width of isosceles triangle\n",
    "            self.scale = 50 # how big to make it\n",
    "            self.relative_corners = self.get_relative_corners()\n",
    "            self.draw()\n",
    "        \n",
    "        def get_relative_corners(self):\n",
    "            aspect_ratio = self.aspect_ratio\n",
    "            scale = self.scale\n",
    "            unscaled_coords = [(-1,0), (1, 0), (0, aspect_ratio)]\n",
    "            relative_corners = [[scale*coord[0], scale*coord[1]] \\\n",
    "                                for coord in unscaled_coords]\n",
    "            return relative_corners\n",
    "            \n",
    "             \n",
    "        def draw(self):\n",
    "            coordinates = [[sum(coords) for coords in zip(self.center, corner)]\\\n",
    "                           for corner in self.relative_corners]\n",
    "            pygame.draw.polygon(screen, self.color, coordinates, 0)\n",
    "                                \n",
    "            \n",
    "            \n",
    "        def rotate(self, pressed_keys):\n",
    "            if pressed_keys[pygame.K_LEFT]:\n",
    "                self.theta -= self.rotation_speed\n",
    "            if pressed_keys[pygame.K_RIGHT]:\n",
    "                self.theta += self.rotation_speed\n",
    "                \n",
    "        def update(self, pressed_keys):\n",
    "            self.rotate(pressed_keys)\n",
    "            self.relative_corners = [pygame.math.Vector2(p).rotate(self.theta) \\\n",
    "                                     for p in self.relative_corners]\n",
    "            # reset theta to 0\n",
    "            self.theta = 0\n",
    "            self.draw()\n",
    "            \n",
    "            \n",
    "    # Create player Fred and place on screen\n",
    "    \"\"\"\n",
    "    center = (100, 100)\n",
    "    rel_corns = [(-0.5, -0.866), (-0.5, 0.866), (2.0, 0.0)]\n",
    "    points = [ [sum(coords) for coords in zip(center,corner)] for corner in rel_corns]\n",
    "    print(points)\n",
    "    pygame.draw.polygon(screen, (255, 0, 0), points, 0)\n",
    "    \"\"\"\n",
    "    \n",
    "    fred = Player()\n",
    "\n",
    "    \n",
    "    # Render the entire screen\n",
    "    pygame.display.flip()\n",
    "\n",
    "\n",
    "    # Continue until user quits\n",
    "    running = True\n",
    "    while running:\n",
    "\n",
    "        # Check if window should be closed\n",
    "        for event in pygame.event.get():\n",
    "            if (event.type == pygame.QUIT):\n",
    "                running = False\n",
    "            elif (event.type == pygame.KEYDOWN):\n",
    "                if (event.key == pygame.K_BACKSPACE):\n",
    "                    running = False\n",
    "\n",
    "                    \n",
    "        # Make it white\n",
    "        screen.fill((255, 255, 255))\n",
    "\n",
    "        # Draw black circle in center\n",
    "        # Add a green ellipse\n",
    "        #pygame.draw.ellipse(screen, (0, 255, 0), (250, 250, 50, 30), 0)\n",
    "\n",
    "                    \n",
    "        # Check for pressed keys and update player position\n",
    "        \n",
    "        pressed_keys = pygame.key.get_pressed()\n",
    "        \n",
    "        fred.update(pressed_keys)\n",
    "\n",
    "        pygame.draw.circle(screen, (0, 0, 0), (250, 250), 75)\n",
    "\n",
    "        #screen.blit(fred.surf, fred.rect)\n",
    "\n",
    "        pygame.display.flip()\n",
    "\n",
    "\n",
    "\n",
    "\n",
    "\n",
    "    \n",
    "    \n",
    "except Exception as e:\n",
    "    exc_type, exc_obj, exc_tb = sys.exc_info()\n",
    "    fname = os.path.split(exc_tb.tb_frame.f_code.co_filename)[1]\n",
    "    print(exc_type, fname, exc_tb.tb_lineno)\n",
    "    print(e)\n",
    "\n",
    "    \n",
    "pygame.quit()\n"
   ]
  },
  {
   "cell_type": "code",
   "execution_count": null,
   "metadata": {},
   "outputs": [],
   "source": [
    "\n",
    "\n",
    "\n"
   ]
  }
 ],
 "metadata": {
  "kernelspec": {
   "display_name": "Python 3",
   "language": "python",
   "name": "python3"
  },
  "language_info": {
   "codemirror_mode": {
    "name": "ipython",
    "version": 3
   },
   "file_extension": ".py",
   "mimetype": "text/x-python",
   "name": "python",
   "nbconvert_exporter": "python",
   "pygments_lexer": "ipython3",
   "version": "3.8.10"
  }
 },
 "nbformat": 4,
 "nbformat_minor": 4
}
